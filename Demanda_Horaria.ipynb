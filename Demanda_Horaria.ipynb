{
 "cells": [
  {
   "cell_type": "markdown",
   "source": [
    "# Time Series de Demanda de Viento en Uruguay"
   ],
   "metadata": {
    "collapsed": false
   },
   "id": "b232a4a7304d47ea"
  },
  {
   "cell_type": "code",
   "execution_count": 15,
   "id": "initial_id",
   "metadata": {
    "collapsed": true,
    "ExecuteTime": {
     "end_time": "2024-03-25T04:46:09.750636Z",
     "start_time": "2024-03-25T04:46:09.732635Z"
    }
   },
   "outputs": [],
   "source": [
    "# Importamos las clases\n",
    "\n",
    "import pandas as pd\n",
    "import numpy as np\n",
    "import matplotlib.pyplot as plt\n",
    "import seaborn as sns\n"
   ]
  },
  {
   "cell_type": "markdown",
   "source": [
    "## Carga de datos y primer pantallazo"
   ],
   "metadata": {
    "collapsed": false
   },
   "id": "f526c7e278893a03"
  },
  {
   "cell_type": "code",
   "outputs": [],
   "source": [
    "# Cargamos los datos de Demanda y Viento\n",
    "\n",
    "data = pd.read_csv('Data\\DemoHoraria_v2.csv')"
   ],
   "metadata": {
    "collapsed": false,
    "ExecuteTime": {
     "end_time": "2024-03-25T04:57:50.721024Z",
     "start_time": "2024-03-25T04:57:50.668976Z"
    }
   },
   "id": "f06e2b03e528e923",
   "execution_count": 28
  },
  {
   "cell_type": "code",
   "outputs": [
    {
     "data": {
      "text/plain": "       data_hora   Demanda_MW  Vel_viento\n0  2015-10-01 02  1032.749657   29.901389\n1  2015-10-01 03   960.611900   17.304258\n2  2015-10-01 04   938.911828    8.709460\n3  2015-10-01 05   943.277163    7.253912\n4  2015-10-01 06   977.780929   16.470050",
      "text/html": "<div>\n<style scoped>\n    .dataframe tbody tr th:only-of-type {\n        vertical-align: middle;\n    }\n\n    .dataframe tbody tr th {\n        vertical-align: top;\n    }\n\n    .dataframe thead th {\n        text-align: right;\n    }\n</style>\n<table border=\"1\" class=\"dataframe\">\n  <thead>\n    <tr style=\"text-align: right;\">\n      <th></th>\n      <th>data_hora</th>\n      <th>Demanda_MW</th>\n      <th>Vel_viento</th>\n    </tr>\n  </thead>\n  <tbody>\n    <tr>\n      <th>0</th>\n      <td>2015-10-01 02</td>\n      <td>1032.749657</td>\n      <td>29.901389</td>\n    </tr>\n    <tr>\n      <th>1</th>\n      <td>2015-10-01 03</td>\n      <td>960.611900</td>\n      <td>17.304258</td>\n    </tr>\n    <tr>\n      <th>2</th>\n      <td>2015-10-01 04</td>\n      <td>938.911828</td>\n      <td>8.709460</td>\n    </tr>\n    <tr>\n      <th>3</th>\n      <td>2015-10-01 05</td>\n      <td>943.277163</td>\n      <td>7.253912</td>\n    </tr>\n    <tr>\n      <th>4</th>\n      <td>2015-10-01 06</td>\n      <td>977.780929</td>\n      <td>16.470050</td>\n    </tr>\n  </tbody>\n</table>\n</div>"
     },
     "metadata": {},
     "output_type": "display_data"
    },
    {
     "name": "stdout",
     "output_type": "stream",
     "text": [
      "<class 'pandas.core.frame.DataFrame'>\n",
      "RangeIndex: 65535 entries, 0 to 65534\n",
      "Data columns (total 3 columns):\n",
      " #   Column      Non-Null Count  Dtype  \n",
      "---  ------      --------------  -----  \n",
      " 0   data_hora   65535 non-null  object \n",
      " 1   Demanda_MW  65535 non-null  float64\n",
      " 2   Vel_viento  65535 non-null  float64\n",
      "dtypes: float64(2), object(1)\n",
      "memory usage: 1.5+ MB\n",
      "None \n"
     ]
    }
   ],
   "source": [
    "# Pantallazo Inicial\n",
    "\n",
    "display(data.head())\n",
    "print(data.info(), '\\n')"
   ],
   "metadata": {
    "collapsed": false,
    "ExecuteTime": {
     "end_time": "2024-03-25T04:57:55.882028Z",
     "start_time": "2024-03-25T04:57:55.855007Z"
    }
   },
   "id": "115d4af3a1c25b46",
   "execution_count": 29
  },
  {
   "cell_type": "markdown",
   "source": [
    "* Datos de Demanda y Velocidad por hora\n",
    "* Ambos del tipo Float"
   ],
   "metadata": {
    "collapsed": false
   },
   "id": "d796fd6cf58006d4"
  },
  {
   "cell_type": "code",
   "outputs": [
    {
     "name": "stdout",
     "output_type": "stream",
     "text": [
      "Minimo:\n",
      " data_hora     2015-10-01 02\n",
      "Demanda_MW      1032.749657\n",
      "Vel_viento        29.901389\n",
      "Name: 0, dtype: object \n",
      "\n",
      "Maximo:\n",
      " data_hora     2023-03-23 16\n",
      "Demanda_MW      1531.515849\n",
      "Vel_viento         7.874173\n",
      "Name: 65534, dtype: object\n"
     ]
    }
   ],
   "source": [
    "# Que rango de datos tenemos\n",
    "print('Minimo:\\n', data.iloc[0], '\\n')\n",
    "print('Maximo:\\n', data.iloc[-1])"
   ],
   "metadata": {
    "collapsed": false,
    "ExecuteTime": {
     "end_time": "2024-03-25T04:58:00.579931Z",
     "start_time": "2024-03-25T04:58:00.568929Z"
    }
   },
   "id": "f279a4e2d21d1088",
   "execution_count": 30
  },
  {
   "cell_type": "markdown",
   "source": [
    "* Desde 2015/10 hasta 2023/03"
   ],
   "metadata": {
    "collapsed": false
   },
   "id": "fb739d8651ada53a"
  },
  {
   "cell_type": "code",
   "outputs": [],
   "source": [
    "# Cargamos los datos de Viento\n",
    "\n",
    "data_temp = pd.read_excel('Data\\data_temperatura.xlsx')"
   ],
   "metadata": {
    "collapsed": false,
    "ExecuteTime": {
     "end_time": "2024-03-25T04:58:37.909785Z",
     "start_time": "2024-03-25T04:58:37.344342Z"
    }
   },
   "id": "e3c43ac1368bee09",
   "execution_count": 32
  },
  {
   "cell_type": "code",
   "outputs": [
    {
     "data": {
      "text/plain": "                Fecha  Temperatura\n0 2020-01-01 00:00:00         21.0\n1 2020-01-01 01:00:00         21.0\n2 2020-01-01 02:00:00         20.8\n3 2020-01-01 03:00:00         20.6\n4 2020-01-01 04:00:00         20.6",
      "text/html": "<div>\n<style scoped>\n    .dataframe tbody tr th:only-of-type {\n        vertical-align: middle;\n    }\n\n    .dataframe tbody tr th {\n        vertical-align: top;\n    }\n\n    .dataframe thead th {\n        text-align: right;\n    }\n</style>\n<table border=\"1\" class=\"dataframe\">\n  <thead>\n    <tr style=\"text-align: right;\">\n      <th></th>\n      <th>Fecha</th>\n      <th>Temperatura</th>\n    </tr>\n  </thead>\n  <tbody>\n    <tr>\n      <th>0</th>\n      <td>2020-01-01 00:00:00</td>\n      <td>21.0</td>\n    </tr>\n    <tr>\n      <th>1</th>\n      <td>2020-01-01 01:00:00</td>\n      <td>21.0</td>\n    </tr>\n    <tr>\n      <th>2</th>\n      <td>2020-01-01 02:00:00</td>\n      <td>20.8</td>\n    </tr>\n    <tr>\n      <th>3</th>\n      <td>2020-01-01 03:00:00</td>\n      <td>20.6</td>\n    </tr>\n    <tr>\n      <th>4</th>\n      <td>2020-01-01 04:00:00</td>\n      <td>20.6</td>\n    </tr>\n  </tbody>\n</table>\n</div>"
     },
     "metadata": {},
     "output_type": "display_data"
    },
    {
     "name": "stdout",
     "output_type": "stream",
     "text": [
      "<class 'pandas.core.frame.DataFrame'>\n",
      "RangeIndex: 26304 entries, 0 to 26303\n",
      "Data columns (total 2 columns):\n",
      " #   Column       Non-Null Count  Dtype         \n",
      "---  ------       --------------  -----         \n",
      " 0   Fecha        26304 non-null  datetime64[ns]\n",
      " 1   Temperatura  26304 non-null  float64       \n",
      "dtypes: datetime64[ns](1), float64(1)\n",
      "memory usage: 411.1 KB\n",
      "None \n"
     ]
    }
   ],
   "source": [
    "# Pantallazo inicial\n",
    "\n",
    "display(data_temp.head())\n",
    "print(data_temp.info(), '\\n')"
   ],
   "metadata": {
    "collapsed": false,
    "ExecuteTime": {
     "end_time": "2024-03-25T04:58:57.678856Z",
     "start_time": "2024-03-25T04:58:57.658856Z"
    }
   },
   "id": "3913c9f93e613365",
   "execution_count": 33
  },
  {
   "cell_type": "markdown",
   "source": [
    "* Con respecto a la Temperatura, tambien los tenemos por Hora y del tipo Float"
   ],
   "metadata": {
    "collapsed": false
   },
   "id": "a61a58e4871454f7"
  },
  {
   "cell_type": "code",
   "outputs": [
    {
     "name": "stdout",
     "output_type": "stream",
     "text": [
      "Minimo:\n",
      " Fecha          2020-01-01 00:00:00\n",
      "Temperatura                   21.0\n",
      "Name: 0, dtype: object \n",
      "\n",
      "Maximo:\n",
      " Fecha          2022-12-31 23:00:00\n",
      "Temperatura                   20.3\n",
      "Name: 26303, dtype: object\n"
     ]
    }
   ],
   "source": [
    "# Rango para los datos de Temperatura\n",
    "print('Minimo:\\n', data_temp.iloc[0], '\\n')\n",
    "print('Maximo:\\n', data_temp.iloc[-1])"
   ],
   "metadata": {
    "collapsed": false,
    "ExecuteTime": {
     "end_time": "2024-03-25T05:01:01.299459Z",
     "start_time": "2024-03-25T05:01:01.286439Z"
    }
   },
   "id": "72df21d0f6feb693",
   "execution_count": 37
  },
  {
   "cell_type": "markdown",
   "source": [
    "* Pero solo tenemos datos desde 2020/01 hasta 2022/12 inclusive"
   ],
   "metadata": {
    "collapsed": false
   },
   "id": "39ec218e8e6e9b"
  },
  {
   "cell_type": "markdown",
   "source": [
    "## Preguntas para el equipo"
   ],
   "metadata": {
    "collapsed": false
   },
   "id": "eac929ee7b783f77"
  },
  {
   "cell_type": "markdown",
   "source": [
    "* Ale, podes conseguir los datos de temperatura desde el 2015? De no ser asi, analizamos solo 2020/21/22?\n",
    "* Definamos ahora si trbajamos con corte por hora o por dia. Tengamos en cuenta cual es el objectivo, que vamos a predecir?\n",
    "* Tenemos solo dos variables hexogenas (Viento y Temperatura). Es suficiente para AutoML?\n",
    "* Les para usar PyCaret? Quiere alguno hacer otro projecto paralelo con las mismas definiciones pero usando otra libreria?"
   ],
   "metadata": {
    "collapsed": false
   },
   "id": "20bc9be830779a4e"
  },
  {
   "cell_type": "code",
   "outputs": [],
   "source": [],
   "metadata": {
    "collapsed": false
   },
   "id": "8da328b229fc940"
  }
 ],
 "metadata": {
  "kernelspec": {
   "display_name": "Python 3",
   "language": "python",
   "name": "python3"
  },
  "language_info": {
   "codemirror_mode": {
    "name": "ipython",
    "version": 2
   },
   "file_extension": ".py",
   "mimetype": "text/x-python",
   "name": "python",
   "nbconvert_exporter": "python",
   "pygments_lexer": "ipython2",
   "version": "2.7.6"
  }
 },
 "nbformat": 4,
 "nbformat_minor": 5
}
